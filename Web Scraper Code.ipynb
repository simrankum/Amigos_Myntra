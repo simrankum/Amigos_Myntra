{
 "cells": [
  {
   "cell_type": "code",
   "execution_count": 58,
   "metadata": {},
   "outputs": [],
   "source": [
    "from selenium import webdriver\n",
    "from selenium.webdriver.common.keys import Keys\n",
    "from selenium.webdriver.support import expected_conditions as EC\n",
    "from selenium.webdriver.common.by import By\n",
    "from selenium.webdriver.support.wait import WebDriverWait\n",
    "from selenium.common.exceptions import TimeoutException\n",
    "from selenium.common.exceptions import NoSuchElementException\n",
    "import time "
   ]
  },
  {
   "cell_type": "code",
   "execution_count": 44,
   "metadata": {},
   "outputs": [],
   "source": [
    "driver = webdriver.Firefox()\n",
    "\n",
    "driver.get(\"http://www.instagram.com\")\n",
    "time.sleep(3)\n",
    "driver.maximize_window\n",
    "\n",
    "username = WebDriverWait(driver, 10).until(EC.element_to_be_clickable((By.CSS_SELECTOR, \"input[name='username']\")))\n",
    "password = WebDriverWait(driver, 10).until(EC.element_to_be_clickable((By.CSS_SELECTOR, \"input[name='password']\")))\n"
   ]
  },
  {
   "cell_type": "code",
   "execution_count": 45,
   "metadata": {},
   "outputs": [],
   "source": [
    "my_username = \"username\"\n",
    "my_password = \"password\"\n",
    "\n",
    "keyword = \"#streetstyle\"\n",
    "\n",
    "username.clear()\n",
    "username.send_keys(my_username)\n",
    "time.sleep(2)\n",
    "password.clear()\n",
    "password.send_keys(my_password)"
   ]
  },
  {
   "cell_type": "code",
   "execution_count": 46,
   "metadata": {},
   "outputs": [],
   "source": [
    "button = WebDriverWait(driver, 2).until(EC.element_to_be_clickable((By.CSS_SELECTOR, \"button[type='submit']\"))).click()"
   ]
  },
  {
   "cell_type": "code",
   "execution_count": 47,
   "metadata": {},
   "outputs": [],
   "source": [
    "time.sleep(5)\n",
    "\n",
    "alert = WebDriverWait(driver, 30).until(\n",
    "    EC.element_to_be_clickable((By.XPATH, '//div[contains(text(), \"Not now\") and contains(@class, \"x1i10hfl\")]'))\n",
    ")\n",
    "alert.click()\n"
   ]
  },
  {
   "cell_type": "code",
   "execution_count": 48,
   "metadata": {},
   "outputs": [],
   "source": [
    "time.sleep(3)\n",
    "alert = WebDriverWait(driver, 30).until(\n",
    "        EC.element_to_be_clickable((By.XPATH, '//button[contains(text(), \"Not Now\") and contains(@class, \"_a9--\")]'))\n",
    ")\n",
    "alert.click()"
   ]
  },
  {
   "cell_type": "code",
   "execution_count": 49,
   "metadata": {},
   "outputs": [],
   "source": [
    "time.sleep(3)\n",
    "search_span = WebDriverWait(driver, 30).until(\n",
    "    EC.element_to_be_clickable((By.XPATH, '//span[text()=\"Search\"]'))\n",
    ")\n",
    "search_span.click()"
   ]
  },
  {
   "cell_type": "code",
   "execution_count": 50,
   "metadata": {},
   "outputs": [],
   "source": [
    "time.sleep(2)\n",
    "search_input = WebDriverWait(driver, 30).until(\n",
    "        EC.element_to_be_clickable((By.XPATH, '//input[@placeholder=\"Search\"]'))\n",
    "    )\n",
    "search_input.clear()\n",
    "search_input.send_keys(keyword)"
   ]
  },
  {
   "cell_type": "code",
   "execution_count": 51,
   "metadata": {},
   "outputs": [],
   "source": [
    "element = WebDriverWait(driver, 10).until(\n",
    "        EC.element_to_be_clickable((By.CSS_SELECTOR, '.x9f619.xjbqb8w.x78zum5.x168nmei.x13lgxp2.x5pf9jr.xo71vjh.x1uhb9sk.x1plvlek.xryxfnj.x1iyjqo2.x2lwn1j.xeuugli.xdt5ytf.xqjyukv.x1cy8zhl.x1oa3qoh.x1nhvcw1'))\n",
    "    )\n",
    "    \n",
    "element.click()"
   ]
  },
  {
   "cell_type": "code",
   "execution_count": 52,
   "metadata": {},
   "outputs": [],
   "source": [
    "time.sleep(2)\n",
    "n_scrolls = 2\n",
    "for j in range(0, n_scrolls):\n",
    "    driver.execute_script(\"window.scrollTo(0, document.body.scrollHeight);\")\n",
    "    time.sleep(5)"
   ]
  },
  {
   "cell_type": "code",
   "execution_count": 53,
   "metadata": {},
   "outputs": [],
   "source": [
    "anchors = driver.find_elements(By.TAG_NAME, 'a')\n",
    "\n",
    "links = [a.get_attribute('href') for a in anchors]\n",
    "\n",
    "image_links = [link for link in links if link and str(link).startswith(\"https://www.instagram.com/p/\")]"
   ]
  },
  {
   "cell_type": "code",
   "execution_count": 54,
   "metadata": {},
   "outputs": [
    {
     "name": "stdout",
     "output_type": "stream",
     "text": [
      "Found 28 links to images\n"
     ]
    },
    {
     "data": {
      "text/plain": [
       "['https://www.instagram.com/p/C9PiyFZgv1p/',\n",
       " 'https://www.instagram.com/p/C9N4muAS6CT/',\n",
       " 'https://www.instagram.com/p/C9O5Z66ifXi/',\n",
       " 'https://www.instagram.com/p/C9Ng4piorFG/',\n",
       " 'https://www.instagram.com/p/C9NkQoCMAeR/']"
      ]
     },
     "execution_count": 54,
     "metadata": {},
     "output_type": "execute_result"
    }
   ],
   "source": [
    "print('Found ' + str(len(image_links)) + ' links to images')\n",
    "image_links[:5]"
   ]
  },
  {
   "cell_type": "code",
   "execution_count": 59,
   "metadata": {},
   "outputs": [],
   "source": [
    "images=[]\n",
    "likes=[]\n",
    "data=[]\n",
    "\n",
    "\n",
    "for link in image_links:\n",
    "        driver.get(link)\n",
    "        time.sleep(5)  \n",
    "\n",
    "        div_element = driver.find_element(By.CLASS_NAME, '_aagv')\n",
    "\n",
    "        img_element = div_element.find_element(By.TAG_NAME, 'img')\n",
    "        img_url = img_element.get_attribute('src')\n",
    "        images.append(img_url)\n",
    "\n",
    "        likes_class_string = \"html-span xdj266r x11i5rnm xat24cr x1mh8g0r xexx8yu x4uap5 x18d9i69 xkhd6sd x1hl2dhg x16tdsg8 x1vvkbs\"\n",
    "        likes_css_selector = 'span.' + '.'.join(likes_class_string.split())\n",
    "\n",
    "        try:\n",
    "                likes_element = driver.find_element(By.CSS_SELECTOR, likes_css_selector)\n",
    "                likes_text = likes_element.text\n",
    "        except NoSuchElementException:\n",
    "                likes_text = \"None\"\n",
    "\n",
    "        likes.append(likes_text)\n",
    "\n",
    "\n",
    "        tags_class_string = \"x1i10hfl xjbqb8w x1ejq31n xd10rxx x1sy0etr x17r0tee x972fbf xcfux6l x1qhh985 xm0m39n x9f619 x1ypdohk xt0psk2 xe8uvvx xdj266r x11i5rnm xat24cr x1mh8g0r xexx8yu x4uap5 x18d9i69 xkhd6sd x16tdsg8 x1hl2dhg xggy1nq x1a2a7pz _aa9_ _a6hd\"\n",
    "        tags_css_selector = 'a.' + '.'.join(tags_class_string.split())\n",
    "        \n",
    "        try:\n",
    "                tags_elements = driver.find_elements(By.CSS_SELECTOR, tags_css_selector)\n",
    "                tags_texts = [element.text for element in tags_elements]\n",
    "        except NoSuchElementException:\n",
    "                tags_texts = []\n",
    "\n",
    "        data.append({\n",
    "                'image_url': img_url,\n",
    "                'likes': likes_text,\n",
    "                'tags': tags_texts\n",
    "        })\n",
    "\n"
   ]
  },
  {
   "cell_type": "code",
   "execution_count": 60,
   "metadata": {},
   "outputs": [
    {
     "data": {
      "text/plain": [
       "28"
      ]
     },
     "execution_count": 60,
     "metadata": {},
     "output_type": "execute_result"
    }
   ],
   "source": [
    "images[:10]\n",
    "len(images)"
   ]
  },
  {
   "cell_type": "code",
   "execution_count": 61,
   "metadata": {},
   "outputs": [],
   "source": [
    "import os \n",
    "import wget"
   ]
  },
  {
   "cell_type": "code",
   "execution_count": 62,
   "metadata": {},
   "outputs": [
    {
     "data": {
      "text/plain": [
       "'d:\\\\scraper\\\\streetstyles'"
      ]
     },
     "execution_count": 62,
     "metadata": {},
     "output_type": "execute_result"
    }
   ],
   "source": [
    "\n",
    "path = os.getcwd()\n",
    "path = os.path.join(path, keyword[1:] + \"s\")\n",
    "os.mkdir(path)\n",
    "\n",
    "path"
   ]
  },
  {
   "cell_type": "code",
   "execution_count": 63,
   "metadata": {},
   "outputs": [],
   "source": [
    "counter = 0\n",
    "for image in images:\n",
    "    save_as = os.path.join(path, keyword[1:] + str(counter) + '.jpg')\n",
    "    wget.download(image, save_as)\n",
    "    counter += 1"
   ]
  },
  {
   "cell_type": "code",
   "execution_count": 64,
   "metadata": {},
   "outputs": [
    {
     "name": "stdout",
     "output_type": "stream",
     "text": [
      "Data successfully saved to #streetstyle image_data.csv\n"
     ]
    }
   ],
   "source": [
    "import csv\n",
    "csv_file = keyword+' image_data.csv'\n",
    "\n",
    "# Writing the data to a CSV file\n",
    "with open(csv_file, mode='w', newline='', encoding='utf-8') as file:\n",
    "    writer = csv.DictWriter(file, fieldnames=['image_url', 'likes', 'tags'])\n",
    "    writer.writeheader()\n",
    "    for item in data:\n",
    "        writer.writerow(item)\n",
    "\n",
    "print(f\"Data successfully saved to {csv_file}\")"
   ]
  },
  {
   "cell_type": "code",
   "execution_count": 65,
   "metadata": {},
   "outputs": [
    {
     "data": {
      "text/plain": [
       "<bound method WebDriver.quit of <selenium.webdriver.firefox.webdriver.WebDriver (session=\"1c9ad881-e18e-4a6c-8e3e-04ad5253c3b3\")>>"
      ]
     },
     "execution_count": 65,
     "metadata": {},
     "output_type": "execute_result"
    }
   ],
   "source": [
    "driver.quit"
   ]
  }
 ],
 "metadata": {
  "kernelspec": {
   "display_name": "Python 3",
   "language": "python",
   "name": "python3"
  },
  "language_info": {
   "codemirror_mode": {
    "name": "ipython",
    "version": 3
   },
   "file_extension": ".py",
   "mimetype": "text/x-python",
   "name": "python",
   "nbconvert_exporter": "python",
   "pygments_lexer": "ipython3",
   "version": "3.11.4"
  }
 },
 "nbformat": 4,
 "nbformat_minor": 2
}
